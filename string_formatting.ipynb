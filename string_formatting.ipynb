{
 "cells": [
  {
   "cell_type": "markdown",
   "id": "c5a0dbb5",
   "metadata": {},
   "source": [
    "# Number system conversion "
   ]
  },
  {
   "cell_type": "markdown",
   "id": "514e980d",
   "metadata": {},
   "source": [
    "1] binary---> 0 to 1  Base 2\n",
    "2]decimal---> 0 to 9  Base 10\n",
    "3]octal-----> 0 to 7  Base 8\n",
    "4]hexadecimal---> 0 to 9,a to f"
   ]
  },
  {
   "cell_type": "code",
   "execution_count": 1,
   "id": "77d060f5",
   "metadata": {},
   "outputs": [
    {
     "data": {
      "text/plain": [
       "'0b11001'"
      ]
     },
     "execution_count": 1,
     "metadata": {},
     "output_type": "execute_result"
    }
   ],
   "source": [
    "bin(25)     # decimal to binary conversion "
   ]
  },
  {
   "cell_type": "code",
   "execution_count": 4,
   "id": "ac4ac3c3",
   "metadata": {},
   "outputs": [
    {
     "data": {
      "text/plain": [
       "25"
      ]
     },
     "execution_count": 4,
     "metadata": {},
     "output_type": "execute_result"
    }
   ],
   "source": [
    "0b11001     # binary to decimal"
   ]
  },
  {
   "cell_type": "code",
   "execution_count": 8,
   "id": "123b854a",
   "metadata": {},
   "outputs": [
    {
     "data": {
      "text/plain": [
       "25"
      ]
     },
     "execution_count": 8,
     "metadata": {},
     "output_type": "execute_result"
    }
   ],
   "source": [
    "int(0b11001)"
   ]
  },
  {
   "cell_type": "code",
   "execution_count": 9,
   "id": "ed6ee08b",
   "metadata": {},
   "outputs": [
    {
     "data": {
      "text/plain": [
       "25"
      ]
     },
     "execution_count": 9,
     "metadata": {},
     "output_type": "execute_result"
    }
   ],
   "source": [
    "int('11001',2)  # Here we mention base of binary number."
   ]
  },
  {
   "cell_type": "code",
   "execution_count": 5,
   "id": "53a805c3",
   "metadata": {},
   "outputs": [
    {
     "data": {
      "text/plain": [
       "'0o31'"
      ]
     },
     "execution_count": 5,
     "metadata": {},
     "output_type": "execute_result"
    }
   ],
   "source": [
    "oct(25)  # decimal to octal "
   ]
  },
  {
   "cell_type": "code",
   "execution_count": 10,
   "id": "eef0321e",
   "metadata": {},
   "outputs": [
    {
     "data": {
      "text/plain": [
       "25"
      ]
     },
     "execution_count": 10,
     "metadata": {},
     "output_type": "execute_result"
    }
   ],
   "source": [
    "int(0o31)"
   ]
  },
  {
   "cell_type": "code",
   "execution_count": 11,
   "id": "a47d31d8",
   "metadata": {},
   "outputs": [
    {
     "data": {
      "text/plain": [
       "25"
      ]
     },
     "execution_count": 11,
     "metadata": {},
     "output_type": "execute_result"
    }
   ],
   "source": [
    "int('0o31',8)"
   ]
  },
  {
   "cell_type": "code",
   "execution_count": 6,
   "id": "c40032f6",
   "metadata": {},
   "outputs": [
    {
     "data": {
      "text/plain": [
       "'0x19'"
      ]
     },
     "execution_count": 6,
     "metadata": {},
     "output_type": "execute_result"
    }
   ],
   "source": [
    "hex(25)  # 0x--> for hexadecimal  convert decimal to hexadecimal"
   ]
  },
  {
   "cell_type": "code",
   "execution_count": 7,
   "id": "17f8a7cc",
   "metadata": {},
   "outputs": [
    {
     "data": {
      "text/plain": [
       "15"
      ]
     },
     "execution_count": 7,
     "metadata": {},
     "output_type": "execute_result"
    }
   ],
   "source": [
    "0xf"
   ]
  },
  {
   "cell_type": "code",
   "execution_count": 12,
   "id": "b5c9ec82",
   "metadata": {},
   "outputs": [
    {
     "data": {
      "text/plain": [
       "142"
      ]
     },
     "execution_count": 12,
     "metadata": {},
     "output_type": "execute_result"
    }
   ],
   "source": [
    "int(0x8E)  # convert hexadecimal to decimal."
   ]
  },
  {
   "cell_type": "code",
   "execution_count": 13,
   "id": "9511614a",
   "metadata": {},
   "outputs": [
    {
     "data": {
      "text/plain": [
       "142"
      ]
     },
     "execution_count": 13,
     "metadata": {},
     "output_type": "execute_result"
    }
   ],
   "source": [
    "int('0x8E',16)"
   ]
  },
  {
   "cell_type": "code",
   "execution_count": 14,
   "id": "de59f634",
   "metadata": {},
   "outputs": [
    {
     "name": "stdout",
     "output_type": "stream",
     "text": [
      "Help on built-in function bin in module builtins:\n",
      "\n",
      "bin(number, /)\n",
      "    Return the binary representation of an integer.\n",
      "    \n",
      "    >>> bin(2796202)\n",
      "    '0b1010101010101010101010'\n",
      "\n"
     ]
    }
   ],
   "source": [
    "help(bin)"
   ]
  },
  {
   "cell_type": "code",
   "execution_count": 15,
   "id": "9e7345bf",
   "metadata": {},
   "outputs": [
    {
     "data": {
      "text/plain": [
       "'0b10001110'"
      ]
     },
     "execution_count": 15,
     "metadata": {},
     "output_type": "execute_result"
    }
   ],
   "source": [
    "bin(142)"
   ]
  },
  {
   "cell_type": "code",
   "execution_count": 17,
   "id": "9255d837",
   "metadata": {},
   "outputs": [
    {
     "data": {
      "text/plain": [
       "142"
      ]
     },
     "execution_count": 17,
     "metadata": {},
     "output_type": "execute_result"
    }
   ],
   "source": [
    "int(0b10001110)"
   ]
  },
  {
   "cell_type": "code",
   "execution_count": 18,
   "id": "cc85a8d9",
   "metadata": {},
   "outputs": [
    {
     "data": {
      "text/plain": [
       "142"
      ]
     },
     "execution_count": 18,
     "metadata": {},
     "output_type": "execute_result"
    }
   ],
   "source": [
    "int('0b10001110',2)"
   ]
  },
  {
   "cell_type": "code",
   "execution_count": 19,
   "id": "4baaadcf",
   "metadata": {},
   "outputs": [
    {
     "name": "stdout",
     "output_type": "stream",
     "text": [
      "Help on built-in function oct in module builtins:\n",
      "\n",
      "oct(number, /)\n",
      "    Return the octal representation of an integer.\n",
      "    \n",
      "    >>> oct(342391)\n",
      "    '0o1234567'\n",
      "\n"
     ]
    }
   ],
   "source": [
    "help(oct)"
   ]
  },
  {
   "cell_type": "code",
   "execution_count": 20,
   "id": "6acda155",
   "metadata": {},
   "outputs": [
    {
     "data": {
      "text/plain": [
       "'0o14'"
      ]
     },
     "execution_count": 20,
     "metadata": {},
     "output_type": "execute_result"
    }
   ],
   "source": [
    "oct(12)"
   ]
  },
  {
   "cell_type": "code",
   "execution_count": 21,
   "id": "01948836",
   "metadata": {},
   "outputs": [
    {
     "data": {
      "text/plain": [
       "12"
      ]
     },
     "execution_count": 21,
     "metadata": {},
     "output_type": "execute_result"
    }
   ],
   "source": [
    "int(0o14)"
   ]
  },
  {
   "cell_type": "code",
   "execution_count": 22,
   "id": "24a48fe7",
   "metadata": {},
   "outputs": [
    {
     "name": "stdout",
     "output_type": "stream",
     "text": [
      "Help on built-in function hex in module builtins:\n",
      "\n",
      "hex(number, /)\n",
      "    Return the hexadecimal representation of an integer.\n",
      "    \n",
      "    >>> hex(12648430)\n",
      "    '0xc0ffee'\n",
      "\n"
     ]
    }
   ],
   "source": [
    "help(hex)"
   ]
  },
  {
   "cell_type": "code",
   "execution_count": 23,
   "id": "f72d914f",
   "metadata": {},
   "outputs": [
    {
     "data": {
      "text/plain": [
       "'0xc'"
      ]
     },
     "execution_count": 23,
     "metadata": {},
     "output_type": "execute_result"
    }
   ],
   "source": [
    "hex(12)"
   ]
  },
  {
   "cell_type": "code",
   "execution_count": 24,
   "id": "c1f1d856",
   "metadata": {},
   "outputs": [
    {
     "data": {
      "text/plain": [
       "'0xf'"
      ]
     },
     "execution_count": 24,
     "metadata": {},
     "output_type": "execute_result"
    }
   ],
   "source": [
    "hex(15)"
   ]
  },
  {
   "cell_type": "code",
   "execution_count": 25,
   "id": "b6276bfa",
   "metadata": {},
   "outputs": [
    {
     "data": {
      "text/plain": [
       "'0x14'"
      ]
     },
     "execution_count": 25,
     "metadata": {},
     "output_type": "execute_result"
    }
   ],
   "source": [
    "hex(20)"
   ]
  },
  {
   "cell_type": "markdown",
   "id": "b2084d6d",
   "metadata": {},
   "source": [
    "# Another method"
   ]
  },
  {
   "cell_type": "code",
   "execution_count": 30,
   "id": "83ac2637",
   "metadata": {},
   "outputs": [
    {
     "name": "stdout",
     "output_type": "stream",
     "text": [
      "1100\n"
     ]
    }
   ],
   "source": [
    "n=12\n",
    "print(\"{:b}\".format(n))   # convert interger to binary"
   ]
  },
  {
   "cell_type": "code",
   "execution_count": 31,
   "id": "6a586549",
   "metadata": {},
   "outputs": [
    {
     "data": {
      "text/plain": [
       "'0b1100'"
      ]
     },
     "execution_count": 31,
     "metadata": {},
     "output_type": "execute_result"
    }
   ],
   "source": [
    "bin(12)"
   ]
  },
  {
   "cell_type": "code",
   "execution_count": 32,
   "id": "f502ba3c",
   "metadata": {},
   "outputs": [
    {
     "name": "stdout",
     "output_type": "stream",
     "text": [
      "12\n"
     ]
    }
   ],
   "source": [
    "n=0b1100\n",
    "print(\"{:d}\".format(n))   # convert binary to integer using d"
   ]
  },
  {
   "cell_type": "code",
   "execution_count": 35,
   "id": "ec20b1e3",
   "metadata": {},
   "outputs": [
    {
     "name": "stdout",
     "output_type": "stream",
     "text": [
      "f\n"
     ]
    }
   ],
   "source": [
    "n=15\n",
    "print(\"{:x}\".format(n))   # integer to hexadecimal"
   ]
  },
  {
   "cell_type": "code",
   "execution_count": 37,
   "id": "06288906",
   "metadata": {},
   "outputs": [
    {
     "name": "stdout",
     "output_type": "stream",
     "text": [
      "F\n"
     ]
    }
   ],
   "source": [
    "n=15\n",
    "print(\"{:X}\".format(n))   # integer to hexadecimal  use capital X here."
   ]
  },
  {
   "cell_type": "code",
   "execution_count": 36,
   "id": "12ffaffe",
   "metadata": {},
   "outputs": [
    {
     "data": {
      "text/plain": [
       "'0xf'"
      ]
     },
     "execution_count": 36,
     "metadata": {},
     "output_type": "execute_result"
    }
   ],
   "source": [
    "hex(15)"
   ]
  },
  {
   "cell_type": "markdown",
   "id": "81b808ee",
   "metadata": {},
   "source": [
    "# Question"
   ]
  },
  {
   "cell_type": "markdown",
   "id": "30b0e4be",
   "metadata": {},
   "source": [
    "Given an integer,n , print the following values for each integer i from 1 to n:\n",
    "\n",
    "1)Decimal\n",
    "2)Octal\n",
    "3)Hexadecimal (capitalized)\n",
    "4)Binary"
   ]
  },
  {
   "cell_type": "markdown",
   "id": "36920c2e",
   "metadata": {},
   "source": [
    "### Sample input"
   ]
  },
  {
   "cell_type": "code",
   "execution_count": null,
   "id": "e2ffcdd4",
   "metadata": {},
   "outputs": [],
   "source": [
    "17"
   ]
  },
  {
   "cell_type": "markdown",
   "id": "93990610",
   "metadata": {},
   "source": [
    "## Sample Output"
   ]
  },
  {
   "cell_type": "code",
   "execution_count": null,
   "id": "a43cb574",
   "metadata": {},
   "outputs": [],
   "source": [
    "    1     1     1     1\n",
    "    2     2     2    10\n",
    "    3     3     3    11\n",
    "    4     4     4   100\n",
    "    5     5     5   101\n",
    "    6     6     6   110\n",
    "    7     7     7   111\n",
    "    8    10     8  1000\n",
    "    9    11     9  1001\n",
    "   10    12     A  1010\n",
    "   11    13     B  1011\n",
    "   12    14     C  1100\n",
    "   13    15     D  1101\n",
    "   14    16     E  1110\n",
    "   15    17     F  1111\n",
    "   16    20    10 10000\n",
    "   17    21    11 10001"
   ]
  },
  {
   "cell_type": "markdown",
   "id": "b3c5eccb",
   "metadata": {},
   "source": [
    "# method 1"
   ]
  },
  {
   "cell_type": "code",
   "execution_count": 42,
   "id": "b8ea8d09",
   "metadata": {},
   "outputs": [
    {
     "name": "stdout",
     "output_type": "stream",
     "text": [
      "    1       1      1     1\n",
      "    2       2      2    10\n",
      "    3       3      3    11\n",
      "    4       4      4   100\n",
      "    5       5      5   101\n",
      "    6       6      6   110\n",
      "    7       7      7   111\n",
      "    8      10      8  1000\n",
      "    9      11      9  1001\n",
      "   10      12      A  1010\n",
      "   11      13      B  1011\n",
      "   12      14      C  1100\n",
      "   13      15      D  1101\n",
      "   14      16      E  1110\n",
      "   15      17      F  1111\n",
      "   16      20     10 10000\n",
      "   17      21     11 10001\n"
     ]
    }
   ],
   "source": [
    "number=17\n",
    "a=len(\"{:b}\".format(number)) # a=5 this is for spacing.\n",
    "for i in range(1,number+1):\n",
    "    print(\"{0:{b}d}   {0:{b}o}  {0:{b}X} {0:{b}b}\".format(i,b=a))"
   ]
  },
  {
   "cell_type": "code",
   "execution_count": 46,
   "id": "7a2ba985",
   "metadata": {},
   "outputs": [
    {
     "name": "stdout",
     "output_type": "stream",
     "text": [
      "1 1 1 1\n",
      "2 2 2 10\n",
      "3 3 3 11\n",
      "4 4 4 100\n",
      "5 5 5 101\n",
      "6 6 6 110\n",
      "7 7 7 111\n",
      "8 10 8 1000\n",
      "9 11 9 1001\n",
      "10 12 A 1010\n",
      "11 13 B 1011\n",
      "12 14 C 1100\n",
      "13 15 D 1101\n",
      "14 16 E 1110\n",
      "15 17 F 1111\n",
      "16 20 10 10000\n",
      "17 21 11 10001\n"
     ]
    }
   ],
   "source": [
    "number=17\n",
    "for i in range(1,number+1):\n",
    "    print(i,oct(i)[2:],hex(i)[2:].upper(),bin(i)[2:])"
   ]
  },
  {
   "cell_type": "code",
   "execution_count": null,
   "id": "9dedc016",
   "metadata": {},
   "outputs": [],
   "source": []
  }
 ],
 "metadata": {
  "kernelspec": {
   "display_name": "Python 3",
   "language": "python",
   "name": "python3"
  },
  "language_info": {
   "codemirror_mode": {
    "name": "ipython",
    "version": 3
   },
   "file_extension": ".py",
   "mimetype": "text/x-python",
   "name": "python",
   "nbconvert_exporter": "python",
   "pygments_lexer": "ipython3",
   "version": "3.8.8"
  }
 },
 "nbformat": 4,
 "nbformat_minor": 5
}
